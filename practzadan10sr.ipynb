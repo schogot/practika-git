{
 "cells": [
  {
   "cell_type": "code",
   "execution_count": 1,
   "id": "937b6e3e",
   "metadata": {},
   "outputs": [
    {
     "name": "stdout",
     "output_type": "stream",
     "text": [
      "[['eat', 'tea', 'ate'], ['tan', 'nat'], ['bat']]\n",
      "[['']]\n",
      "[['a']]\n"
     ]
    }
   ],
   "source": [
    "def groupAnagrams(strs):\n",
    "    anagrams = {}\n",
    "    \n",
    "    for s in strs:\n",
    "        # Sort the string to create a key\n",
    "        key = ''.join(sorted(s))\n",
    "        \n",
    "        # Add the original string to the list corresponding to the sorted key\n",
    "        if key not in anagrams:\n",
    "            anagrams[key] = []\n",
    "        anagrams[key].append(s)\n",
    "    \n",
    "    # Return the values of the dictionary as a list of lists\n",
    "    return list(anagrams.values())\n",
    "\n",
    "# Example usage:\n",
    "strs1 = [\"eat\", \"tea\", \"tan\", \"ate\", \"nat\", \"bat\"]\n",
    "print(groupAnagrams(strs1))  # Output: [[\"eat\", \"tea\", \"ate\"], [\"tan\", \"nat\"], [\"bat\"]]\n",
    "\n",
    "strs2 = [\"\"]\n",
    "print(groupAnagrams(strs2))  # Output: [[\"\"]]\n",
    "\n",
    "strs3 = [\"a\"]\n",
    "print(groupAnagrams(strs3))  # Output: [[\"a\"]]\n"
   ]
  },
  {
   "cell_type": "code",
   "execution_count": null,
   "id": "02c1c136",
   "metadata": {},
   "outputs": [],
   "source": []
  }
 ],
 "metadata": {
  "kernelspec": {
   "display_name": "Python 3 (ipykernel)",
   "language": "python",
   "name": "python3"
  },
  "language_info": {
   "codemirror_mode": {
    "name": "ipython",
    "version": 3
   },
   "file_extension": ".py",
   "mimetype": "text/x-python",
   "name": "python",
   "nbconvert_exporter": "python",
   "pygments_lexer": "ipython3",
   "version": "3.11.5"
  }
 },
 "nbformat": 4,
 "nbformat_minor": 5
}
