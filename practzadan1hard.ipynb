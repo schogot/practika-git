{
 "cells": [
  {
   "cell_type": "code",
   "execution_count": 1,
   "id": "ed26c876",
   "metadata": {},
   "outputs": [
    {
     "name": "stdout",
     "output_type": "stream",
     "text": [
      "False\n",
      "True\n",
      "True\n"
     ]
    }
   ],
   "source": [
    "def isMatch(s, p):\n",
    "    m, n = len(s), len(p)\n",
    "    # dp[i][j] will be True if s[0:i] matches p[0:j]\n",
    "    dp = [[False] * (n + 1) for _ in range(m + 1)]\n",
    "    \n",
    "    # Base case: empty string matches empty pattern\n",
    "    dp[0][0] = True\n",
    "    \n",
    "    # Populate the first row (empty string case)\n",
    "    for j in range(2, n + 1):\n",
    "        if p[j - 1] == '*':\n",
    "            dp[0][j] = dp[0][j - 2]\n",
    "    \n",
    "    # Fill the table\n",
    "    for i in range(1, m + 1):\n",
    "        for j in range(1, n + 1):\n",
    "            if p[j - 1] == '*':\n",
    "                # '*' can match zero or more of the previous element\n",
    "                dp[i][j] = dp[i][j - 2] or (dp[i - 1][j] and (s[i - 1] == p[j - 2] or p[j - 2] == '.'))\n",
    "            else:\n",
    "                # Match current characters or '.'\n",
    "                dp[i][j] = dp[i - 1][j - 1] and (s[i - 1] == p[j - 1] or p[j - 1] == '.')\n",
    "    \n",
    "    return dp[m][n]\n",
    "\n",
    "# Example usage:\n",
    "s1, p1 = \"aa\", \"a\"\n",
    "print(isMatch(s1, p1))  # Output: False\n",
    "\n",
    "s2, p2 = \"aa\", \"a*\"\n",
    "print(isMatch(s2, p2))  # Output: True\n",
    "\n",
    "s3, p3 = \"ab\", \".*\"\n",
    "print(isMatch(s3, p3))  # Output: True\n"
   ]
  },
  {
   "cell_type": "code",
   "execution_count": null,
   "id": "61ef2bb8",
   "metadata": {},
   "outputs": [],
   "source": []
  }
 ],
 "metadata": {
  "kernelspec": {
   "display_name": "Python 3 (ipykernel)",
   "language": "python",
   "name": "python3"
  },
  "language_info": {
   "codemirror_mode": {
    "name": "ipython",
    "version": 3
   },
   "file_extension": ".py",
   "mimetype": "text/x-python",
   "name": "python",
   "nbconvert_exporter": "python",
   "pygments_lexer": "ipython3",
   "version": "3.11.5"
  }
 },
 "nbformat": 4,
 "nbformat_minor": 5
}
