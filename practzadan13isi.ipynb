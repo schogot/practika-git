{
 "cells": [
  {
   "cell_type": "code",
   "execution_count": 1,
   "id": "7e185e75",
   "metadata": {},
   "outputs": [
    {
     "name": "stdout",
     "output_type": "stream",
     "text": [
      "[1, 2, 3, 4, 5, 6, 7, 8, 9, 11, 12, 15, 22]\n",
      "[48, 55, 66, 77]\n"
     ]
    }
   ],
   "source": [
    "def is_self_dividing(num: int) -> bool:\n",
    "    original_num = num\n",
    "    while num > 0:\n",
    "        digit = num % 10\n",
    "        if digit == 0 or original_num % digit != 0:\n",
    "            return False\n",
    "        num //= 10\n",
    "    return True\n",
    "\n",
    "def self_dividing_numbers(left: int, right: int) -> list:\n",
    "    result = []\n",
    "    for num in range(left, right + 1):\n",
    "        if is_self_dividing(num):\n",
    "            result.append(num)\n",
    "    return result\n",
    "\n",
    "# Example usage:\n",
    "print(self_dividing_numbers(1, 22))  # Output: [1,2,3,4,5,6,7,8,9,11,12,15,22]\n",
    "print(self_dividing_numbers(47, 85))  # Output: [48,55,66,77]\n"
   ]
  },
  {
   "cell_type": "code",
   "execution_count": null,
   "id": "426876f3",
   "metadata": {},
   "outputs": [],
   "source": []
  }
 ],
 "metadata": {
  "kernelspec": {
   "display_name": "Python 3 (ipykernel)",
   "language": "python",
   "name": "python3"
  },
  "language_info": {
   "codemirror_mode": {
    "name": "ipython",
    "version": 3
   },
   "file_extension": ".py",
   "mimetype": "text/x-python",
   "name": "python",
   "nbconvert_exporter": "python",
   "pygments_lexer": "ipython3",
   "version": "3.11.5"
  }
 },
 "nbformat": 4,
 "nbformat_minor": 5
}
