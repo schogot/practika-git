{
 "cells": [
  {
   "cell_type": "code",
   "execution_count": 1,
   "id": "dee5d89b",
   "metadata": {},
   "outputs": [
    {
     "name": "stdout",
     "output_type": "stream",
     "text": [
      "['ad', 'ae', 'af', 'bd', 'be', 'bf', 'cd', 'ce', 'cf']\n",
      "[]\n",
      "['a', 'b', 'c']\n"
     ]
    }
   ],
   "source": [
    "def letterCombinations(digits):\n",
    "    if not digits:\n",
    "        return []\n",
    "    \n",
    "    # Mapping of digits to corresponding letters.\n",
    "    phone_map = {\n",
    "        '2': 'abc', '3': 'def', '4': 'ghi', '5': 'jkl',\n",
    "        '6': 'mno', '7': 'pqrs', '8': 'tuv', '9': 'wxyz'\n",
    "    }\n",
    "    \n",
    "    def backtrack(index, path):\n",
    "        # If the path length equals the digits length, we have a complete combination.\n",
    "        if index == len(digits):\n",
    "            combinations.append(\"\".join(path))\n",
    "            return\n",
    "        \n",
    "        # Get the letters that the current digit maps to and iterate over them.\n",
    "        possible_letters = phone_map[digits[index]]\n",
    "        for letter in possible_letters:\n",
    "            # Add the letter to the current path and move to the next digit.\n",
    "            path.append(letter)\n",
    "            backtrack(index + 1, path)\n",
    "            # Backtrack by removing the last letter.\n",
    "            path.pop()\n",
    "    \n",
    "    combinations = []\n",
    "    backtrack(0, [])\n",
    "    return combinations\n",
    "\n",
    "# Example usage:\n",
    "digits1 = \"23\"\n",
    "print(letterCombinations(digits1))  # Output: [\"ad\",\"ae\",\"af\",\"bd\",\"be\",\"bf\",\"cd\",\"ce\",\"cf\"]\n",
    "\n",
    "digits2 = \"\"\n",
    "print(letterCombinations(digits2))  # Output: []\n",
    "\n",
    "digits3 = \"2\"\n",
    "print(letterCombinations(digits3))  # Output: [\"a\",\"b\",\"c\"]\n"
   ]
  },
  {
   "cell_type": "code",
   "execution_count": null,
   "id": "5bf350e3",
   "metadata": {},
   "outputs": [],
   "source": []
  }
 ],
 "metadata": {
  "kernelspec": {
   "display_name": "Python 3 (ipykernel)",
   "language": "python",
   "name": "python3"
  },
  "language_info": {
   "codemirror_mode": {
    "name": "ipython",
    "version": 3
   },
   "file_extension": ".py",
   "mimetype": "text/x-python",
   "name": "python",
   "nbconvert_exporter": "python",
   "pygments_lexer": "ipython3",
   "version": "3.11.5"
  }
 },
 "nbformat": 4,
 "nbformat_minor": 5
}
