{
 "cells": [
  {
   "cell_type": "code",
   "execution_count": null,
   "id": "f2ae59b8",
   "metadata": {},
   "outputs": [],
   "source": [
    "def fourSum(nums, target):\n",
    "    nums.sort()\n",
    "    quadruplets = []\n",
    "    n = len(nums)\n",
    "    \n",
    "    for i in range(n - 3):\n",
    "        # Avoid duplicates for the first number\n",
    "        if i > 0 and nums[i] == nums[i - 1]:\n",
    "            continue\n",
    "        \n",
    "        for j in range(i + 1, n - 2):\n",
    "            # Avoid duplicates for the second number\n",
    "            if j > i + 1 and nums[j] == nums[j - 1]:\n",
    "                continue\n",
    "            \n",
    "            left, right = j + 1, n - 1\n",
    "            while left < right:\n",
    "                total = nums[i] + nums[j] + nums[left] + nums[right]\n",
    "                \n",
    "                if total == target:\n",
    "                    quadruplets.append([nums[i], nums[j], nums[left], nums[right]])\n",
    "                    while left < right and nums[left] == nums[left + 1]:\n",
    "                        left += 1  # Skip duplicates for the third number\n",
    "                    while left < right and nums[right] == nums[right - 1]:\n",
    "                        right -= 1  # Skip duplicates for the fourth number\n",
    "                    left += 1\n",
    "                    right -= 1\n",
    "                elif total < target:\n",
    "                    left += 1  # We need a larger sum\n",
    "                else:\n",
    "                    right -= 1  # We need a smaller sum\n",
    "    \n",
    "    return quadruplets\n",
    "\n",
    "# Example usage:\n",
    "nums1 = [1, 0, -1, 0, -2, 2]\n",
    "target1 = 0\n",
    "print(fourSum(nums1, target1))  # Output: [[-2, -1, 1, 2], [-2, 0, 0, 2], [-1, 0, 0, 1]]\n",
    "\n",
    "nums2 = [2, 2, 2, 2, 2]\n",
    "target2 = 8\n",
    "print(fourSum(nums2, target2))  # Output: [[2, 2, 2, 2]]\n"
   ]
  }
 ],
 "metadata": {
  "kernelspec": {
   "display_name": "Python 3 (ipykernel)",
   "language": "python",
   "name": "python3"
  },
  "language_info": {
   "codemirror_mode": {
    "name": "ipython",
    "version": 3
   },
   "file_extension": ".py",
   "mimetype": "text/x-python",
   "name": "python",
   "nbconvert_exporter": "python",
   "pygments_lexer": "ipython3",
   "version": "3.11.5"
  }
 },
 "nbformat": 4,
 "nbformat_minor": 5
}
