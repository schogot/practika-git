{
 "cells": [
  {
   "cell_type": "code",
   "execution_count": 1,
   "id": "c03516c2",
   "metadata": {},
   "outputs": [
    {
     "name": "stdout",
     "output_type": "stream",
     "text": [
      "3\n",
      "5\n"
     ]
    }
   ],
   "source": [
    "def minDistance(word1: str, word2: str) -> int:\n",
    "    m, n = len(word1), len(word2)\n",
    "    # Initialize the DP table with size (m+1) x (n+1)\n",
    "    dp = [[0] * (n + 1) for _ in range(m + 1)]\n",
    "\n",
    "    # Base cases\n",
    "    for i in range(m + 1):\n",
    "        dp[i][0] = i  # Deleting all characters from word1\n",
    "    for j in range(n + 1):\n",
    "        dp[0][j] = j  # Inserting all characters into word1\n",
    "\n",
    "    # Fill the DP table\n",
    "    for i in range(1, m + 1):\n",
    "        for j in range(1, n + 1):\n",
    "            if word1[i - 1] == word2[j - 1]:\n",
    "                dp[i][j] = dp[i - 1][j - 1]  # No new operation needed\n",
    "            else:\n",
    "                dp[i][j] = min(dp[i - 1][j] + 1,      # Delete\n",
    "                               dp[i][j - 1] + 1,      # Insert\n",
    "                               dp[i - 1][j - 1] + 1)  # Replace\n",
    "\n",
    "    return dp[m][n]\n",
    "\n",
    "# Example usage:\n",
    "word1 = \"horse\"\n",
    "word2 = \"ros\"\n",
    "print(minDistance(word1, word2))  # Output: 3\n",
    "\n",
    "word1 = \"intention\"\n",
    "word2 = \"execution\"\n",
    "print(minDistance(word1, word2))  # Output: 5\n"
   ]
  },
  {
   "cell_type": "code",
   "execution_count": null,
   "id": "dc3d5e30",
   "metadata": {},
   "outputs": [],
   "source": []
  }
 ],
 "metadata": {
  "kernelspec": {
   "display_name": "Python 3 (ipykernel)",
   "language": "python",
   "name": "python3"
  },
  "language_info": {
   "codemirror_mode": {
    "name": "ipython",
    "version": 3
   },
   "file_extension": ".py",
   "mimetype": "text/x-python",
   "name": "python",
   "nbconvert_exporter": "python",
   "pygments_lexer": "ipython3",
   "version": "3.11.5"
  }
 },
 "nbformat": 4,
 "nbformat_minor": 5
}
