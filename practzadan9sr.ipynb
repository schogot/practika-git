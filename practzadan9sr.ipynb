{
 "cells": [
  {
   "cell_type": "code",
   "execution_count": 1,
   "id": "7ed4628b",
   "metadata": {},
   "outputs": [
    {
     "name": "stdout",
     "output_type": "stream",
     "text": [
      "[0, 0, 1, 1, 2, 2]\n",
      "[0, 1, 2]\n"
     ]
    }
   ],
   "source": [
    "def sortColors(nums):\n",
    "    low, mid, high = 0, 0, len(nums) - 1\n",
    "    \n",
    "    while mid <= high:\n",
    "        if nums[mid] == 0:\n",
    "            nums[low], nums[mid] = nums[mid], nums[low]\n",
    "            low += 1\n",
    "            mid += 1\n",
    "        elif nums[mid] == 1:\n",
    "            mid += 1\n",
    "        else:\n",
    "            nums[high], nums[mid] = nums[mid], nums[high]\n",
    "            high -= 1\n",
    "\n",
    "# Example usage:\n",
    "nums1 = [2, 0, 2, 1, 1, 0]\n",
    "sortColors(nums1)\n",
    "print(nums1)  # Output: [0, 0, 1, 1, 2, 2]\n",
    "\n",
    "nums2 = [2, 0, 1]\n",
    "sortColors(nums2)\n",
    "print(nums2)  # Output: [0, 1, 2]\n"
   ]
  },
  {
   "cell_type": "code",
   "execution_count": null,
   "id": "efd66f59",
   "metadata": {},
   "outputs": [],
   "source": []
  }
 ],
 "metadata": {
  "kernelspec": {
   "display_name": "Python 3 (ipykernel)",
   "language": "python",
   "name": "python3"
  },
  "language_info": {
   "codemirror_mode": {
    "name": "ipython",
    "version": 3
   },
   "file_extension": ".py",
   "mimetype": "text/x-python",
   "name": "python",
   "nbconvert_exporter": "python",
   "pygments_lexer": "ipython3",
   "version": "3.11.5"
  }
 },
 "nbformat": 4,
 "nbformat_minor": 5
}
