{
 "cells": [
  {
   "cell_type": "code",
   "execution_count": 1,
   "id": "2948437c",
   "metadata": {},
   "outputs": [
    {
     "name": "stdout",
     "output_type": "stream",
     "text": [
      "5\n",
      "4\n"
     ]
    }
   ],
   "source": [
    "def candy(ratings):\n",
    "    n = len(ratings)\n",
    "    if n == 0:\n",
    "        return 0\n",
    "\n",
    "    # Initialize candies array where each child gets at least one candy\n",
    "    candies = [1] * n\n",
    "\n",
    "    # Left-to-right pass\n",
    "    for i in range(1, n):\n",
    "        if ratings[i] > ratings[i - 1]:\n",
    "            candies[i] = candies[i - 1] + 1\n",
    "\n",
    "    # Right-to-left pass\n",
    "    for i in range(n - 2, -1, -1):\n",
    "        if ratings[i] > ratings[i + 1]:\n",
    "            candies[i] = max(candies[i], candies[i + 1] + 1)\n",
    "\n",
    "    # Sum up all the candies\n",
    "    return sum(candies)\n",
    "\n",
    "# Example usage:\n",
    "ratings1 = [1, 0, 2]\n",
    "print(candy(ratings1))  # Output: 5\n",
    "\n",
    "ratings2 = [1, 2, 2]\n",
    "print(candy(ratings2))  # Output: 4\n"
   ]
  },
  {
   "cell_type": "code",
   "execution_count": null,
   "id": "da4cc898",
   "metadata": {},
   "outputs": [],
   "source": []
  }
 ],
 "metadata": {
  "kernelspec": {
   "display_name": "Python 3 (ipykernel)",
   "language": "python",
   "name": "python3"
  },
  "language_info": {
   "codemirror_mode": {
    "name": "ipython",
    "version": 3
   },
   "file_extension": ".py",
   "mimetype": "text/x-python",
   "name": "python",
   "nbconvert_exporter": "python",
   "pygments_lexer": "ipython3",
   "version": "3.11.5"
  }
 },
 "nbformat": 4,
 "nbformat_minor": 5
}
