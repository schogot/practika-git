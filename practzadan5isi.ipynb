{
 "cells": [
  {
   "cell_type": "code",
   "execution_count": 1,
   "id": "c10ee4fe",
   "metadata": {},
   "outputs": [
    {
     "name": "stdout",
     "output_type": "stream",
     "text": [
      "True\n",
      "False\n"
     ]
    }
   ],
   "source": [
    "# Definition for a binary tree node.\n",
    "class TreeNode:\n",
    "    def __init__(self, val=0, left=None, right=None):\n",
    "        self.val = val\n",
    "        self.left = left\n",
    "        self.right = right\n",
    "\n",
    "def isSameTree(p, q):\n",
    "    # Base case: if both nodes are None\n",
    "    if not p and not q:\n",
    "        return True\n",
    "    # If one of the nodes is None but not the other\n",
    "    if not p or not q:\n",
    "        return False\n",
    "    # If the values of the nodes are different\n",
    "    if p.val != q.val:\n",
    "        return False\n",
    "\n",
    "    # Recursively check the left and right subtrees\n",
    "    return isSameTree(p.left, q.left) and isSameTree(p.right, q.right)\n",
    "\n",
    "\n",
    "p = TreeNode(1)\n",
    "p.left = TreeNode(2)\n",
    "p.right = TreeNode(3)\n",
    "\n",
    "q = TreeNode(1)\n",
    "q.left = TreeNode(2)\n",
    "q.right = TreeNode(3)\n",
    "\n",
    "print(isSameTree(p, q))  # Output: True\n",
    "\n",
    "\n",
    "p2 = TreeNode(1)\n",
    "p2.left = TreeNode(2)\n",
    "p2.right = TreeNode(1)\n",
    "\n",
    "\n",
    "q2 = TreeNode(1)\n",
    "q2.left = TreeNode(1)\n",
    "q2.right = TreeNode(2)\n",
    "\n",
    "print(isSameTree(p2, q2))  # Output: False\n"
   ]
  },
  {
   "cell_type": "code",
   "execution_count": null,
   "id": "8158caaa",
   "metadata": {},
   "outputs": [],
   "source": []
  }
 ],
 "metadata": {
  "kernelspec": {
   "display_name": "Python 3 (ipykernel)",
   "language": "python",
   "name": "python3"
  },
  "language_info": {
   "codemirror_mode": {
    "name": "ipython",
    "version": 3
   },
   "file_extension": ".py",
   "mimetype": "text/x-python",
   "name": "python",
   "nbconvert_exporter": "python",
   "pygments_lexer": "ipython3",
   "version": "3.11.5"
  }
 },
 "nbformat": 4,
 "nbformat_minor": 5
}
