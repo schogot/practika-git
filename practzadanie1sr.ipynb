{
 "cells": [
  {
   "cell_type": "code",
   "execution_count": 1,
   "id": "d3a4435f",
   "metadata": {},
   "outputs": [
    {
     "name": "stdout",
     "output_type": "stream",
     "text": [
      "7 -> 0 -> 8 -> None\n"
     ]
    }
   ],
   "source": [
    "class ListNode:\n",
    "    def __init__(self, val=0, next=None):\n",
    "        self.val = val\n",
    "        self.next = next\n",
    "\n",
    "def addTwoNumbers(l1, l2):\n",
    "    dummy_head = ListNode()\n",
    "    current = dummy_head\n",
    "    carry = 0\n",
    "    \n",
    "    while l1 or l2 or carry:\n",
    "        val1 = l1.val if l1 else 0\n",
    "        val2 = l2.val if l2 else 0\n",
    "        \n",
    "        total = val1 + val2 + carry\n",
    "        carry = total // 10\n",
    "        current.next = ListNode(total % 10)\n",
    "        current = current.next\n",
    "        \n",
    "        if l1:\n",
    "            l1 = l1.next\n",
    "        if l2:\n",
    "            l2 = l2.next\n",
    "    \n",
    "    return dummy_head.next\n",
    "\n",
    "# Helper function to create a linked list from a list of values\n",
    "def create_linked_list(lst):\n",
    "    dummy_head = ListNode()\n",
    "    current = dummy_head\n",
    "    for number in lst:\n",
    "        current.next = ListNode(number)\n",
    "        current = current.next\n",
    "    return dummy_head.next\n",
    "\n",
    "# Helper function to print the linked list\n",
    "def print_linked_list(node):\n",
    "    while node:\n",
    "        print(node.val, end=\" -> \")\n",
    "        node = node.next\n",
    "    print(\"None\")\n",
    "\n",
    "# Example usage:\n",
    "# l1: 2 -> 4 -> 3 represents 342\n",
    "# l2: 5 -> 6 -> 4 represents 465\n",
    "l1 = create_linked_list([2, 4, 3])\n",
    "l2 = create_linked_list([5, 6, 4])\n",
    "result = addTwoNumbers(l1, l2)\n",
    "print_linked_list(result)  # Output: 7 -> 0 -> 8 -> None, representing 807\n"
   ]
  },
  {
   "cell_type": "code",
   "execution_count": null,
   "id": "4004d580",
   "metadata": {},
   "outputs": [],
   "source": []
  }
 ],
 "metadata": {
  "kernelspec": {
   "display_name": "Python 3 (ipykernel)",
   "language": "python",
   "name": "python3"
  },
  "language_info": {
   "codemirror_mode": {
    "name": "ipython",
    "version": 3
   },
   "file_extension": ".py",
   "mimetype": "text/x-python",
   "name": "python",
   "nbconvert_exporter": "python",
   "pygments_lexer": "ipython3",
   "version": "3.11.5"
  }
 },
 "nbformat": 4,
 "nbformat_minor": 5
}
