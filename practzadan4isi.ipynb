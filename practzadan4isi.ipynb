{
 "cells": [
  {
   "cell_type": "code",
   "execution_count": null,
   "id": "e4cdc4aa",
   "metadata": {},
   "outputs": [],
   "source": [
    "# Definition for a binary tree node.\n",
    "class TreeNode:\n",
    "    def __init__(self, val=0, left=None, right=None):\n",
    "        self.val = val\n",
    "        self.left = left\n",
    "        self.right = right\n",
    "\n",
    "def hasPathSum(root, targetSum):\n",
    "    # Base case: if the tree is empty\n",
    "    if not root:\n",
    "        return False\n",
    "\n",
    "    # Base case: if it's a leaf node, check if the current value equals targetSum\n",
    "    if not root.left and not root.right:\n",
    "        return root.val == targetSum\n",
    "\n",
    "    # Subtract the current node's value from targetSum and recursively check left and right subtrees\n",
    "    targetSum -= root.val\n",
    "\n",
    "    return hasPathSum(root.left, targetSum) or hasPathSum(root.right, targetSum)\n",
    "\n",
    "\n",
    "root = TreeNode(5)\n",
    "root.left = TreeNode(4)\n",
    "root.right = TreeNode(8)\n",
    "root.left.left = TreeNode(11)\n",
    "root.right.left = TreeNode(13)\n",
    "root.right.right = TreeNode(4)\n",
    "root.left.left.left = TreeNode(7)\n",
    "root.left.left.right = TreeNode(2)\n",
    "root.right.right.right = TreeNode(1)\n",
    "\n",
    "print(hasPathSum(root, 22))  # Output: True\n",
    "print(hasPathSum(root, 26))  # Output: True\n",
    "print(hasPathSum(root, 18))  # Output: True\n",
    "print(hasPathSum(root, 27))  # Output: False\n"
   ]
  }
 ],
 "metadata": {
  "kernelspec": {
   "display_name": "Python 3 (ipykernel)",
   "language": "python",
   "name": "python3"
  },
  "language_info": {
   "codemirror_mode": {
    "name": "ipython",
    "version": 3
   },
   "file_extension": ".py",
   "mimetype": "text/x-python",
   "name": "python",
   "nbconvert_exporter": "python",
   "pygments_lexer": "ipython3",
   "version": "3.11.5"
  }
 },
 "nbformat": 4,
 "nbformat_minor": 5
}
