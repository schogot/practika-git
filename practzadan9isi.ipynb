{
 "cells": [
  {
   "cell_type": "code",
   "execution_count": 1,
   "id": "2cb9ee63",
   "metadata": {},
   "outputs": [
    {
     "name": "stdout",
     "output_type": "stream",
     "text": [
      "3\n",
      "1\n",
      "31\n"
     ]
    }
   ],
   "source": [
    "def hammingWeight(n: int) -> int:\n",
    "    count = 0\n",
    "    while n:\n",
    "        # Perform bitwise AND between n and n-1\n",
    "        n &= (n - 1)\n",
    "        count += 1\n",
    "    return count\n",
    "\n",
    "# Example usage:\n",
    "print(hammingWeight(0b1011))  # Output: 3\n",
    "print(hammingWeight(0b10000000))  # Output: 1\n",
    "print(hammingWeight(0b11111111111111111111111111111101))  # Output: 31\n"
   ]
  },
  {
   "cell_type": "code",
   "execution_count": null,
   "id": "a3f3d22e",
   "metadata": {},
   "outputs": [],
   "source": []
  }
 ],
 "metadata": {
  "kernelspec": {
   "display_name": "Python 3 (ipykernel)",
   "language": "python",
   "name": "python3"
  },
  "language_info": {
   "codemirror_mode": {
    "name": "ipython",
    "version": 3
   },
   "file_extension": ".py",
   "mimetype": "text/x-python",
   "name": "python",
   "nbconvert_exporter": "python",
   "pygments_lexer": "ipython3",
   "version": "3.11.5"
  }
 },
 "nbformat": 4,
 "nbformat_minor": 5
}
