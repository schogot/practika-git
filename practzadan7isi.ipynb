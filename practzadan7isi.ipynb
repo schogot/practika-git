{
 "cells": [
  {
   "cell_type": "code",
   "execution_count": 1,
   "id": "28abe986",
   "metadata": {},
   "outputs": [
    {
     "name": "stdout",
     "output_type": "stream",
     "text": [
      "2\n",
      "3\n",
      "8\n"
     ]
    }
   ],
   "source": [
    "def climbStairs(n):\n",
    "    if n <= 1:\n",
    "        return 1\n",
    "    # Initialize the base cases\n",
    "    prev2 = 1  # ways(0)\n",
    "    prev1 = 1  # ways(1)\n",
    "    # Compute the number of ways for each step from 2 to n\n",
    "    for i in range(2, n + 1):\n",
    "        current = prev1 + prev2\n",
    "        prev2 = prev1\n",
    "        prev1 = current\n",
    "    return prev1\n",
    "\n",
    "# Example usage:\n",
    "print(climbStairs(2))  # Output: 2\n",
    "print(climbStairs(3))  # Output: 3\n",
    "print(climbStairs(5))  # Output: 8\n"
   ]
  },
  {
   "cell_type": "code",
   "execution_count": null,
   "id": "37718448",
   "metadata": {},
   "outputs": [],
   "source": []
  }
 ],
 "metadata": {
  "kernelspec": {
   "display_name": "Python 3 (ipykernel)",
   "language": "python",
   "name": "python3"
  },
  "language_info": {
   "codemirror_mode": {
    "name": "ipython",
    "version": 3
   },
   "file_extension": ".py",
   "mimetype": "text/x-python",
   "name": "python",
   "nbconvert_exporter": "python",
   "pygments_lexer": "ipython3",
   "version": "3.11.5"
  }
 },
 "nbformat": 4,
 "nbformat_minor": 5
}
