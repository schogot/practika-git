{
 "cells": [
  {
   "cell_type": "code",
   "execution_count": 1,
   "id": "322cf549",
   "metadata": {},
   "outputs": [
    {
     "name": "stdout",
     "output_type": "stream",
     "text": [
      "2\n",
      "0\n"
     ]
    }
   ],
   "source": [
    "def findComplement(num: int) -> int:\n",
    "    # Calculate the bit length of the number\n",
    "    bit_length = num.bit_length()\n",
    "    \n",
    "    # Create a mask with all bits set to 1 with the same length as num\n",
    "    mask = (1 << bit_length) - 1\n",
    "    \n",
    "    # XOR num with the mask to get the complement\n",
    "    return num ^ mask\n",
    "\n",
    "# Example usage:\n",
    "print(findComplement(5))  # Output: 2\n",
    "print(findComplement(1))  # Output: 0\n"
   ]
  },
  {
   "cell_type": "code",
   "execution_count": null,
   "id": "7c1669e4",
   "metadata": {},
   "outputs": [],
   "source": []
  }
 ],
 "metadata": {
  "kernelspec": {
   "display_name": "Python 3 (ipykernel)",
   "language": "python",
   "name": "python3"
  },
  "language_info": {
   "codemirror_mode": {
    "name": "ipython",
    "version": 3
   },
   "file_extension": ".py",
   "mimetype": "text/x-python",
   "name": "python",
   "nbconvert_exporter": "python",
   "pygments_lexer": "ipython3",
   "version": "3.11.5"
  }
 },
 "nbformat": 4,
 "nbformat_minor": 5
}
