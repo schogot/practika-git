{
 "cells": [
  {
   "cell_type": "code",
   "execution_count": 1,
   "id": "fbfd95f6",
   "metadata": {},
   "outputs": [
    {
     "name": "stdout",
     "output_type": "stream",
     "text": [
      "[[1, 2], [1, 3], [1, 4], [2, 3], [2, 4], [3, 4]]\n",
      "[[1]]\n"
     ]
    }
   ],
   "source": [
    "def combine(n, k):\n",
    "    def backtrack(start, comb):\n",
    "        if len(comb) == k:\n",
    "            result.append(list(comb))\n",
    "            return\n",
    "        \n",
    "        for i in range(start, n + 1):\n",
    "            comb.append(i)\n",
    "            backtrack(i + 1, comb)\n",
    "            comb.pop()\n",
    "\n",
    "    result = []\n",
    "    backtrack(1, [])\n",
    "    return result\n",
    "\n",
    "# Example usage:\n",
    "print(combine(4, 2))  # Output: [[1, 2], [1, 3], [1, 4], [2, 3], [2, 4], [3, 4]]\n",
    "print(combine(1, 1))  # Output: [[1]]\n"
   ]
  },
  {
   "cell_type": "code",
   "execution_count": null,
   "id": "7455529a",
   "metadata": {},
   "outputs": [],
   "source": []
  }
 ],
 "metadata": {
  "kernelspec": {
   "display_name": "Python 3 (ipykernel)",
   "language": "python",
   "name": "python3"
  },
  "language_info": {
   "codemirror_mode": {
    "name": "ipython",
    "version": 3
   },
   "file_extension": ".py",
   "mimetype": "text/x-python",
   "name": "python",
   "nbconvert_exporter": "python",
   "pygments_lexer": "ipython3",
   "version": "3.11.5"
  }
 },
 "nbformat": 4,
 "nbformat_minor": 5
}
