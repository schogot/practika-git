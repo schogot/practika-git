{
 "cells": [
  {
   "cell_type": "code",
   "execution_count": 1,
   "id": "e5175cd6",
   "metadata": {},
   "outputs": [
    {
     "name": "stdout",
     "output_type": "stream",
     "text": [
      "2 [1, 2]\n",
      "5 [0, 1, 2, 3, 4]\n"
     ]
    }
   ],
   "source": [
    "def removeDuplicates(nums):\n",
    "    if not nums:\n",
    "        return 0\n",
    "    \n",
    "    slow = 0  # Initialize the slow pointer\n",
    "\n",
    "    for fast in range(1, len(nums)):\n",
    "        if nums[fast] != nums[slow]:\n",
    "            slow += 1\n",
    "            nums[slow] = nums[fast]\n",
    "    \n",
    "    return slow + 1\n",
    "\n",
    "# Example usage:\n",
    "nums1 = [1, 1, 2]\n",
    "k1 = removeDuplicates(nums1)\n",
    "print(k1, nums1[:k1])  # Output: 2, nums = [1, 2]\n",
    "\n",
    "nums2 = [0, 0, 1, 1, 1, 2, 2, 3, 3, 4]\n",
    "k2 = removeDuplicates(nums2)\n",
    "print(k2, nums2[:k2])  # Output: 5, nums = [0, 1, 2, 3, 4]\n"
   ]
  },
  {
   "cell_type": "code",
   "execution_count": null,
   "id": "5aeee400",
   "metadata": {},
   "outputs": [],
   "source": []
  }
 ],
 "metadata": {
  "kernelspec": {
   "display_name": "Python 3 (ipykernel)",
   "language": "python",
   "name": "python3"
  },
  "language_info": {
   "codemirror_mode": {
    "name": "ipython",
    "version": 3
   },
   "file_extension": ".py",
   "mimetype": "text/x-python",
   "name": "python",
   "nbconvert_exporter": "python",
   "pygments_lexer": "ipython3",
   "version": "3.11.5"
  }
 },
 "nbformat": 4,
 "nbformat_minor": 5
}
