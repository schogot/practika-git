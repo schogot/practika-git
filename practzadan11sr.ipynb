{
 "cells": [
  {
   "cell_type": "code",
   "execution_count": 1,
   "id": "9ca8aa8f",
   "metadata": {},
   "outputs": [
    {
     "name": "stdout",
     "output_type": "stream",
     "text": [
      "[[1, 2, 3], [1, 3, 2], [2, 1, 3], [2, 3, 1], [3, 2, 1], [3, 1, 2]]\n",
      "[[0, 1], [1, 0]]\n",
      "[[1]]\n"
     ]
    }
   ],
   "source": [
    "def permute(nums):\n",
    "    def backtrack(first=0):\n",
    "        # Base case: all numbers are used\n",
    "        if first == n:\n",
    "            output.append(nums[:])\n",
    "        for i in range(first, n):\n",
    "            # Place i-th integer first in the current permutation\n",
    "            nums[first], nums[i] = nums[i], nums[first]\n",
    "            # Use next integers to complete the permutation\n",
    "            backtrack(first + 1)\n",
    "            # Backtrack\n",
    "            nums[first], nums[i] = nums[i], nums[first]\n",
    "    \n",
    "    n = len(nums)\n",
    "    output = []\n",
    "    backtrack()\n",
    "    return output\n",
    "\n",
    "# Example usage:\n",
    "nums1 = [1, 2, 3]\n",
    "print(permute(nums1))  # Output: [[1, 2, 3], [1, 3, 2], [2, 1, 3], [2, 3, 1], [3, 1, 2], [3, 2, 1]]\n",
    "\n",
    "nums2 = [0, 1]\n",
    "print(permute(nums2))  # Output: [[0, 1], [1, 0]]\n",
    "\n",
    "nums3 = [1]\n",
    "print(permute(nums3))  # Output: [[1]]\n"
   ]
  },
  {
   "cell_type": "code",
   "execution_count": null,
   "id": "eeefd64f",
   "metadata": {},
   "outputs": [],
   "source": []
  }
 ],
 "metadata": {
  "kernelspec": {
   "display_name": "Python 3 (ipykernel)",
   "language": "python",
   "name": "python3"
  },
  "language_info": {
   "codemirror_mode": {
    "name": "ipython",
    "version": 3
   },
   "file_extension": ".py",
   "mimetype": "text/x-python",
   "name": "python",
   "nbconvert_exporter": "python",
   "pygments_lexer": "ipython3",
   "version": "3.11.5"
  }
 },
 "nbformat": 4,
 "nbformat_minor": 5
}
