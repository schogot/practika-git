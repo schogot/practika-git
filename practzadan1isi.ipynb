{
 "cells": [
  {
   "cell_type": "code",
   "execution_count": 1,
   "id": "9f6f0aad",
   "metadata": {},
   "outputs": [
    {
     "name": "stdout",
     "output_type": "stream",
     "text": [
      "[0, 1]\n",
      "[1, 2]\n",
      "[0, 1]\n"
     ]
    }
   ],
   "source": [
    "def twoSum(nums, target):\n",
    "    num_to_index = {}\n",
    "    \n",
    "    for index, num in enumerate(nums):\n",
    "        complement = target - num\n",
    "        if complement in num_to_index:\n",
    "            return [num_to_index[complement], index]\n",
    "        num_to_index[num] = index\n",
    "\n",
    "# Example usage:\n",
    "nums1 = [2, 7, 11, 15]\n",
    "target1 = 9\n",
    "print(twoSum(nums1, target1))  # Output: [0, 1]\n",
    "\n",
    "nums2 = [3, 2, 4]\n",
    "target2 = 6\n",
    "print(twoSum(nums2, target2))  # Output: [1, 2]\n",
    "\n",
    "nums3 = [3, 3]\n",
    "target3 = 6\n",
    "print(twoSum(nums3, target3))  # Output: [0, 1]\n"
   ]
  },
  {
   "cell_type": "code",
   "execution_count": null,
   "id": "7c98b6dc",
   "metadata": {},
   "outputs": [],
   "source": []
  }
 ],
 "metadata": {
  "kernelspec": {
   "display_name": "Python 3 (ipykernel)",
   "language": "python",
   "name": "python3"
  },
  "language_info": {
   "codemirror_mode": {
    "name": "ipython",
    "version": 3
   },
   "file_extension": ".py",
   "mimetype": "text/x-python",
   "name": "python",
   "nbconvert_exporter": "python",
   "pygments_lexer": "ipython3",
   "version": "3.11.5"
  }
 },
 "nbformat": 4,
 "nbformat_minor": 5
}
