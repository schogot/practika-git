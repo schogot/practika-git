{
 "cells": [
  {
   "cell_type": "code",
   "execution_count": 1,
   "id": "0c8cb4eb",
   "metadata": {},
   "outputs": [
    {
     "name": "stdout",
     "output_type": "stream",
     "text": [
      "[4, 5, 1, 2, 3]\n",
      "[2, 0, 1]\n"
     ]
    }
   ],
   "source": [
    "class ListNode:\n",
    "    def __init__(self, val=0, next=None):\n",
    "        self.val = val\n",
    "        self.next = next\n",
    "\n",
    "def rotateRight(head: ListNode, k: int) -> ListNode:\n",
    "    if not head or not head.next or k == 0:\n",
    "        return head\n",
    "    \n",
    "    # Compute the length of the list\n",
    "    length = 1\n",
    "    tail = head\n",
    "    while tail.next:\n",
    "        tail = tail.next\n",
    "        length += 1\n",
    "    \n",
    "    # Find the effective rotations needed\n",
    "    k = k % length\n",
    "    if k == 0:\n",
    "        return head\n",
    "    \n",
    "    # Find the new tail (length - k - 1) and new head (length - k)\n",
    "    new_tail = head\n",
    "    for _ in range(length - k - 1):\n",
    "        new_tail = new_tail.next\n",
    "    \n",
    "    new_head = new_tail.next\n",
    "    new_tail.next = None\n",
    "    tail.next = head\n",
    "    \n",
    "    return new_head\n",
    "\n",
    "# Helper function to create a linked list from a list of values\n",
    "def create_linked_list(vals):\n",
    "    if not vals:\n",
    "        return None\n",
    "    head = ListNode(vals[0])\n",
    "    current = head\n",
    "    for val in vals[1:]:\n",
    "        current.next = ListNode(val)\n",
    "        current = current.next\n",
    "    return head\n",
    "\n",
    "# Helper function to convert a linked list to a list of values\n",
    "def linked_list_to_list(head):\n",
    "    vals = []\n",
    "    while head:\n",
    "        vals.append(head.val)\n",
    "        head = head.next\n",
    "    return vals\n",
    "\n",
    "# Example usage:\n",
    "head = create_linked_list([1, 2, 3, 4, 5])\n",
    "rotated_head = rotateRight(head, 2)\n",
    "print(linked_list_to_list(rotated_head))  # Output: [4, 5, 1, 2, 3]\n",
    "\n",
    "head = create_linked_list([0, 1, 2])\n",
    "rotated_head = rotateRight(head, 4)\n",
    "print(linked_list_to_list(rotated_head))  # Output: [2, 0, 1]\n"
   ]
  },
  {
   "cell_type": "code",
   "execution_count": null,
   "id": "e5c05a5f",
   "metadata": {},
   "outputs": [],
   "source": []
  }
 ],
 "metadata": {
  "kernelspec": {
   "display_name": "Python 3 (ipykernel)",
   "language": "python",
   "name": "python3"
  },
  "language_info": {
   "codemirror_mode": {
    "name": "ipython",
    "version": 3
   },
   "file_extension": ".py",
   "mimetype": "text/x-python",
   "name": "python",
   "nbconvert_exporter": "python",
   "pygments_lexer": "ipython3",
   "version": "3.11.5"
  }
 },
 "nbformat": 4,
 "nbformat_minor": 5
}
