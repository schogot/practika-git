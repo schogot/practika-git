{
 "cells": [
  {
   "cell_type": "code",
   "execution_count": 1,
   "id": "18491fae",
   "metadata": {},
   "outputs": [
    {
     "name": "stdout",
     "output_type": "stream",
     "text": [
      "321\n",
      "-321\n",
      "21\n",
      "0\n"
     ]
    }
   ],
   "source": [
    "def reverse(x: int) -> int:\n",
    "    INT_MAX = 2**31 - 1\n",
    "    INT_MIN = -2**31\n",
    "\n",
    "    result = 0\n",
    "    sign = -1 if x < 0 else 1\n",
    "    x = abs(x)\n",
    "\n",
    "    while x != 0:\n",
    "        digit = x % 10\n",
    "        x //= 10\n",
    "\n",
    "        # Check for overflow before actually adding the digit\n",
    "        if (result > INT_MAX // 10) or (result == INT_MAX // 10 and digit > INT_MAX % 10):\n",
    "            return 0\n",
    "        \n",
    "        result = result * 10 + digit\n",
    "\n",
    "    return sign * result\n",
    "\n",
    "# Example usage:\n",
    "print(reverse(123))   # Output: 321\n",
    "print(reverse(-123))  # Output: -321\n",
    "print(reverse(120))   # Output: 21\n",
    "print(reverse(1534236469))  # Output: 0 (overflow case)\n"
   ]
  },
  {
   "cell_type": "code",
   "execution_count": null,
   "id": "6cb6231a",
   "metadata": {},
   "outputs": [],
   "source": []
  }
 ],
 "metadata": {
  "kernelspec": {
   "display_name": "Python 3 (ipykernel)",
   "language": "python",
   "name": "python3"
  },
  "language_info": {
   "codemirror_mode": {
    "name": "ipython",
    "version": 3
   },
   "file_extension": ".py",
   "mimetype": "text/x-python",
   "name": "python",
   "nbconvert_exporter": "python",
   "pygments_lexer": "ipython3",
   "version": "3.11.5"
  }
 },
 "nbformat": 4,
 "nbformat_minor": 5
}
