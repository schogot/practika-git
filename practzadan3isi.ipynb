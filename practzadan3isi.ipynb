{
 "cells": [
  {
   "cell_type": "code",
   "execution_count": 1,
   "id": "972c573c",
   "metadata": {},
   "outputs": [
    {
     "name": "stdout",
     "output_type": "stream",
     "text": [
      "True\n",
      "False\n",
      "False\n",
      "True\n"
     ]
    }
   ],
   "source": [
    "def isPalindrome(x: int) -> bool:\n",
    "    # If x is negative, it is not a palindrome\n",
    "    if x < 0:\n",
    "        return False\n",
    "    \n",
    "    # If x is 0, it is a palindrome\n",
    "    if x == 0:\n",
    "        return True\n",
    "    \n",
    "    # If x ends with 0 and is not 0, it cannot be a palindrome\n",
    "    if x % 10 == 0:\n",
    "        return False\n",
    "    \n",
    "    reversed_half = 0\n",
    "    \n",
    "    while x > reversed_half:\n",
    "        reversed_half = reversed_half * 10 + x % 10\n",
    "        x //= 10\n",
    "    \n",
    "    # x == reversed_half when the number of digits is even\n",
    "    # x == reversed_half // 10 when the number of digits is odd\n",
    "    return x == reversed_half or x == reversed_half // 10\n",
    "\n",
    "# Example usage:\n",
    "print(isPalindrome(121))   # Output: true\n",
    "print(isPalindrome(-121))  # Output: false\n",
    "print(isPalindrome(10))    # Output: false\n",
    "print(isPalindrome(1221))  # Output: true\n"
   ]
  },
  {
   "cell_type": "code",
   "execution_count": null,
   "id": "c1738052",
   "metadata": {},
   "outputs": [],
   "source": []
  }
 ],
 "metadata": {
  "kernelspec": {
   "display_name": "Python 3 (ipykernel)",
   "language": "python",
   "name": "python3"
  },
  "language_info": {
   "codemirror_mode": {
    "name": "ipython",
    "version": 3
   },
   "file_extension": ".py",
   "mimetype": "text/x-python",
   "name": "python",
   "nbconvert_exporter": "python",
   "pygments_lexer": "ipython3",
   "version": "3.11.5"
  }
 },
 "nbformat": 4,
 "nbformat_minor": 5
}
