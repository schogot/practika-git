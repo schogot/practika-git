{
 "cells": [
  {
   "cell_type": "code",
   "execution_count": 1,
   "id": "65794530",
   "metadata": {},
   "outputs": [
    {
     "name": "stdout",
     "output_type": "stream",
     "text": [
      "[[-1, -1, 2], [-1, 0, 1]]\n",
      "[]\n",
      "[[0, 0, 0]]\n"
     ]
    }
   ],
   "source": [
    "def threeSum(nums):\n",
    "    nums.sort()  # Sort the array to make it easier to avoid duplicates\n",
    "    triplets = []\n",
    "\n",
    "    for i in range(len(nums) - 2):\n",
    "        if i > 0 and nums[i] == nums[i - 1]:\n",
    "            continue  # Skip duplicates for the first number\n",
    "        \n",
    "        left, right = i + 1, len(nums) - 1\n",
    "        while left < right:\n",
    "            total = nums[i] + nums[left] + nums[right]\n",
    "            \n",
    "            if total == 0:\n",
    "                triplets.append([nums[i], nums[left], nums[right]])\n",
    "                while left < right and nums[left] == nums[left + 1]:\n",
    "                    left += 1  # Skip duplicates for the second number\n",
    "                while left < right and nums[right] == nums[right - 1]:\n",
    "                    right -= 1  # Skip duplicates for the third number\n",
    "                left += 1\n",
    "                right -= 1\n",
    "            elif total < 0:\n",
    "                left += 1  # We need a larger number\n",
    "            else:\n",
    "                right -= 1  # We need a smaller number\n",
    "    \n",
    "    return triplets\n",
    "\n",
    "# Example usage:\n",
    "nums1 = [-1, 0, 1, 2, -1, -4]\n",
    "print(threeSum(nums1))  # Output: [[-1, -1, 2], [-1, 0, 1]]\n",
    "\n",
    "nums2 = [0, 1, 1]\n",
    "print(threeSum(nums2))  # Output: []\n",
    "\n",
    "nums3 = [0, 0, 0]\n",
    "print(threeSum(nums3))  # Output: [[0, 0, 0]]\n"
   ]
  },
  {
   "cell_type": "code",
   "execution_count": null,
   "id": "c969cb6f",
   "metadata": {},
   "outputs": [],
   "source": []
  }
 ],
 "metadata": {
  "kernelspec": {
   "display_name": "Python 3 (ipykernel)",
   "language": "python",
   "name": "python3"
  },
  "language_info": {
   "codemirror_mode": {
    "name": "ipython",
    "version": 3
   },
   "file_extension": ".py",
   "mimetype": "text/x-python",
   "name": "python",
   "nbconvert_exporter": "python",
   "pygments_lexer": "ipython3",
   "version": "3.11.5"
  }
 },
 "nbformat": 4,
 "nbformat_minor": 5
}
