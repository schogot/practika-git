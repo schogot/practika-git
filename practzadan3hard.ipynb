{
 "cells": [
  {
   "cell_type": "code",
   "execution_count": 1,
   "id": "1946df84",
   "metadata": {},
   "outputs": [
    {
     "name": "stdout",
     "output_type": "stream",
     "text": [
      "6\n",
      "4\n",
      "0\n",
      "0\n"
     ]
    }
   ],
   "source": [
    "def maxProfit(prices):\n",
    "    if not prices:\n",
    "        return 0\n",
    "\n",
    "    n = len(prices)\n",
    "    max_profit_before = [0] * n\n",
    "    max_profit_after = [0] * n\n",
    "\n",
    "    # Calculate max profit before each day\n",
    "    min_price = prices[0]\n",
    "    for i in range(1, n):\n",
    "        min_price = min(min_price, prices[i])\n",
    "        max_profit_before[i] = max(max_profit_before[i - 1], prices[i] - min_price)\n",
    "\n",
    "    # Calculate max profit after each day\n",
    "    max_price = prices[-1]\n",
    "    for i in range(n - 2, -1, -1):\n",
    "        max_price = max(max_price, prices[i])\n",
    "        max_profit_after[i] = max(max_profit_after[i + 1], max_price - prices[i])\n",
    "\n",
    "    # Combine the results\n",
    "    max_profit = 0\n",
    "    for i in range(n):\n",
    "        if i < n - 1:\n",
    "            max_profit = max(max_profit, max_profit_before[i] + max_profit_after[i + 1])\n",
    "        else:\n",
    "            max_profit = max(max_profit, max_profit_before[i])\n",
    "    \n",
    "    return max_profit\n",
    "\n",
    "# Example usage:\n",
    "prices1 = [3,3,5,0,0,3,1,4]\n",
    "print(maxProfit(prices1))  # Output: 6\n",
    "\n",
    "prices2 = [1,2,3,4,5]\n",
    "print(maxProfit(prices2))  # Output: 4\n",
    "\n",
    "prices3 = [7,6,4,3,1]\n",
    "print(maxProfit(prices3))  # Output: 0\n",
    "\n",
    "prices4 = [1]\n",
    "print(maxProfit(prices4))  # Output: 0\n"
   ]
  },
  {
   "cell_type": "code",
   "execution_count": null,
   "id": "995ffeb7",
   "metadata": {},
   "outputs": [],
   "source": []
  }
 ],
 "metadata": {
  "kernelspec": {
   "display_name": "Python 3 (ipykernel)",
   "language": "python",
   "name": "python3"
  },
  "language_info": {
   "codemirror_mode": {
    "name": "ipython",
    "version": 3
   },
   "file_extension": ".py",
   "mimetype": "text/x-python",
   "name": "python",
   "nbconvert_exporter": "python",
   "pygments_lexer": "ipython3",
   "version": "3.11.5"
  }
 },
 "nbformat": 4,
 "nbformat_minor": 5
}
